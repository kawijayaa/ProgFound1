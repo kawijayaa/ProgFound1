{
 "cells": [
  {
   "cell_type": "code",
   "execution_count": 4,
   "metadata": {},
   "outputs": [
    {
     "name": "stdout",
     "output_type": "stream",
     "text": [
      "called __init__\n",
      "called __str__\n",
      "(0.00, 0.00)\n",
      "called __init__\n",
      "called __str__\n",
      "(3.00, 4.00)\n",
      "p1.pointCount: 101\n",
      "p2.pointCount: 101\n",
      "pointCount: 3\n",
      "called __str__\n",
      "called __str__\n",
      "The distance between (0.00, 0.00) and (3.00, 4.00) is 5.000\n",
      "True\n"
     ]
    }
   ],
   "source": [
    "# No 1\n",
    "#scope.py: scope rule \n",
    "import math  \n",
    "\n",
    "# a Point is a Cartesion point (x, y) \n",
    "# # all values are float unless otherwise stated \n",
    "\n",
    "class Point(object):     \n",
    "    pointCount = 100  # class variable     \n",
    "    def __init__ (self, x_param = 0.0, y_param = 0.0):         \n",
    "        ''' Create x and y attributes. Defaults are 0.0 '''         \n",
    "        print(\"called __init__\")         \n",
    "        global pointCount           \n",
    "        pointCount += 1         \n",
    "        self.x = x_param         \n",
    "        self.y = y_param         \n",
    "        self.pointCount += 1     \n",
    "    def distance (self,param_pt):         \n",
    "        \"\"\" Distance between self and a Point \"\"\"         \n",
    "        x_diff = self.x - param_pt.x  # (x1 − x2)         \n",
    "        y_diff = self.y - param_pt.y  # (y1 − y2 )         \n",
    "        return math.sqrt(x_diff**2 + y_diff**2)     \n",
    "    def __str__(self):         \n",
    "        \"\"\"Print as a coordinate pair. \"\"\"         \n",
    "        print(\"called __str__\")         \n",
    "        return f\"({self.x:.2f}, {self.y:.2f})\"  \n",
    "        \n",
    "pointCount = 0  \n",
    "\n",
    "def main():     \n",
    "    global pointCount     \n",
    "    p1 = Point()     \n",
    "    print(p1)     \n",
    "    p2 = Point(3.0,4.0)     \n",
    "    print(p2)     \n",
    "    pointCount += 1     \n",
    "    print(f\"p1.pointCount: {p1.pointCount}\")     \n",
    "    print(f\"p2.pointCount: {p2.pointCount}\")     \n",
    "    print(f\"pointCount: {pointCount}\")     \n",
    "    dist = p1.distance(p2)      \n",
    "    print(f\"The distance between {p1} and {p2} is {dist:.3f}\")     \n",
    "    print(type(p1)==Point)  \n",
    "    \n",
    "if __name__ == \"__main__\":     \n",
    "    main()        "
   ]
  },
  {
   "cell_type": "code",
   "execution_count": 6,
   "metadata": {},
   "outputs": [
    {
     "name": "stdout",
     "output_type": "stream",
     "text": [
      "init in A\n",
      "6\n",
      "init in B\n",
      "init in A\n",
      "11\n",
      "3\n",
      "True\n"
     ]
    }
   ],
   "source": [
    "# No 3\n",
    "class A(object):     \n",
    "    def __init__(self, i = 2):         \n",
    "        print(\"init in A\")         \n",
    "        self.i = i     \n",
    "    def m1(self):         \n",
    "        self.i += 1 \n",
    "        \n",
    "class B(A):     \n",
    "    def __init__(self, j = 3):         \n",
    "        print(\"init in B\")         \n",
    "        super().__init__(9)         \n",
    "        self.j = j     \n",
    "    def m1(self):         \n",
    "        self.i += 2 \n",
    "        \n",
    "def main():     \n",
    "    a = A(5)                 #Line 1     \n",
    "    a.m1()     \n",
    "    print(a.i)               #Line 2     \n",
    "    b = B()                  #Line 3        \n",
    "    b.m1()     \n",
    "    print(b.i)               #Line 4     \n",
    "    print(b.j)               #Line 5     \n",
    "    print(isinstance(b,A))   #Line 6 \n",
    "    \n",
    "if __name__ == \"__main__\":     \n",
    "    main() "
   ]
  },
  {
   "cell_type": "code",
   "execution_count": 7,
   "metadata": {},
   "outputs": [
    {
     "name": "stdout",
     "output_type": "stream",
     "text": [
      "param1: 123\n",
      "param2: 45.6\n"
     ]
    },
    {
     "ename": "UnboundLocalError",
     "evalue": "cannot access local variable 'var' where it is not associated with a value",
     "output_type": "error",
     "traceback": [
      "\u001b[1;31m---------------------------------------------------------------------------\u001b[0m",
      "\u001b[1;31mUnboundLocalError\u001b[0m                         Traceback (most recent call last)",
      "Cell \u001b[1;32mIn[7], line 10\u001b[0m\n\u001b[0;32m      7\u001b[0m     var \u001b[39m=\u001b[39m var \u001b[39m+\u001b[39m \u001b[39m1\u001b[39m     \n\u001b[0;32m      8\u001b[0m     \u001b[39mprint\u001b[39m(\u001b[39m'\u001b[39m\u001b[39mvar: \u001b[39m\u001b[39m'\u001b[39m, var)  \n\u001b[1;32m---> 10\u001b[0m afunction(\u001b[39m123\u001b[39;49m, \u001b[39m45.6\u001b[39;49m) \n",
      "Cell \u001b[1;32mIn[7], line 7\u001b[0m, in \u001b[0;36mafunction\u001b[1;34m(param1, param2)\u001b[0m\n\u001b[0;32m      5\u001b[0m \u001b[39mfor\u001b[39;00m key,val \u001b[39min\u001b[39;00m \u001b[39mlocals\u001b[39m()\u001b[39m.\u001b[39mitems():         \n\u001b[0;32m      6\u001b[0m     \u001b[39mprint\u001b[39m(\u001b[39m'\u001b[39m\u001b[39m{}\u001b[39;00m\u001b[39m: \u001b[39m\u001b[39m{}\u001b[39;00m\u001b[39m'\u001b[39m\u001b[39m.\u001b[39mformat(key, val))     \n\u001b[1;32m----> 7\u001b[0m var \u001b[39m=\u001b[39m var \u001b[39m+\u001b[39m \u001b[39m1\u001b[39m     \n\u001b[0;32m      8\u001b[0m \u001b[39mprint\u001b[39m(\u001b[39m'\u001b[39m\u001b[39mvar: \u001b[39m\u001b[39m'\u001b[39m, var)\n",
      "\u001b[1;31mUnboundLocalError\u001b[0m: cannot access local variable 'var' where it is not associated with a value"
     ]
    }
   ],
   "source": [
    "# No 4\n",
    "var = 38  \n",
    "\n",
    "def afunction(param1=1, param2=0):     \n",
    "    for key,val in locals().items():         \n",
    "        print('{}: {}'.format(key, val))     \n",
    "    var = var + 1     \n",
    "    print('var: ', var)  \n",
    "    \n",
    "afunction(123, 45.6) "
   ]
  },
  {
   "cell_type": "code",
   "execution_count": 15,
   "metadata": {},
   "outputs": [],
   "source": [
    "# No 6\n",
    "my_dict = {'bill':100, 'zach':'hi mom', 'laurie':'bye mom'} \n",
    "try:     \n",
    "    result = ''     \n",
    "    key_str = input(\"Enter a key:\")     \n",
    "    val = my_dict[key_str]     \n",
    "    result = result + val \n",
    "except KeyError:     \n",
    "    result = 'hi mom' \n",
    "except TypeError:     \n",
    "    result = '100' \n",
    "else:     \n",
    "    result = result + \" \" + 'all done' \n",
    "finally: \n",
    "    if result.isdigit(): \n",
    "        result = int(result) + 10 \n",
    "    print(result) # Line 1 "
   ]
  },
  {
   "cell_type": "code",
   "execution_count": 40,
   "metadata": {},
   "outputs": [
    {
     "name": "stdout",
     "output_type": "stream",
     "text": [
      "invoking add\n",
      "invoking add\n",
      "<<abc>>\n",
      "<<abcijk>>\n",
      "<<abc>>\n",
      "True\n",
      "invoking radd\n",
      "invoking add\n",
      "<<abc>>\n"
     ]
    }
   ],
   "source": [
    "# No 7\n",
    "class TestClass(object):     \n",
    "    def __init__(self, param_str = ''):         \n",
    "        self.the_str = ''         \n",
    "        for c in param_str:             \n",
    "            if c.isalpha():                 \n",
    "                self.the_str += c      \n",
    "                \n",
    "    def __add__(self, param):         \n",
    "        print(\"invoking add\")         \n",
    "        if type(param) == TestClass:             \n",
    "            the_str = self.the_str + param.the_str             \n",
    "            return TestClass(the_str)         \n",
    "        else:             \n",
    "            return self      \n",
    "            \n",
    "    def __str__(self):         \n",
    "        return '<<{}>>'.format(self.the_str)      \n",
    "        \n",
    "    def __radd__(self, param):         \n",
    "        print(\"invoking radd\")         \n",
    "        return self.__add__(param)  \n",
    "        \n",
    "inst1 = TestClass('abc') \n",
    "inst2 = TestClass('123ijk') \n",
    "sumInst1 = inst1 + inst2 \n",
    "sumInst2 = inst1 + 'xyz' \n",
    "print(inst1)                          # Line 1 \n",
    "print(sumInst1)                       # Line 2 \n",
    "print(sumInst2)                       # Line 3 \n",
    "print(isinstance(sumInst2,TestClass)) # Line 4 \n",
    "print(3 + inst1)                      # Line 5"
   ]
  },
  {
   "cell_type": "code",
   "execution_count": 3,
   "metadata": {},
   "outputs": [],
   "source": [
    "# No 8\n",
    "# Display a counter with \"Up\" button and \"Down\" button \n",
    "from tkinter import * \n",
    "\n",
    "window = Tk() \n",
    "window.title('Counter with Lambda') \n",
    "\n",
    "# The model \n",
    "counter = IntVar() \n",
    "counter.set(0) \n",
    "\n",
    "# The views \n",
    "Button(window, text=\"Up\", bg = \"yellow\", command=lambda: counter.set(counter.get() + 1)).pack() \n",
    "Button(window, text=\"Down\", bg = \"cyan\", command=lambda: counter.set(counter.get() - 1)).pack() \n",
    "Label(window, bg = \"gray\", textvariable=counter).pack() \n",
    "\n",
    "window.mainloop()"
   ]
  },
  {
   "cell_type": "code",
   "execution_count": 21,
   "metadata": {},
   "outputs": [
    {
     "name": "stdout",
     "output_type": "stream",
     "text": [
      "L = [4, -2, 3.35]\n",
      "L = [4, 2, 3.35]\n",
      "L = [4, 2, 3]\n",
      "L = [24, 2, 6]\n"
     ]
    }
   ],
   "source": [
    "# No 9\n",
    "def apply(f, L):     \n",
    "    \"\"\"     \n",
    "    L is a list, f is a function     \n",
    "    Mutates L by replacing each element, e, of L by f(e)     \n",
    "    \"\"\"     \n",
    "\n",
    "    for i in range(len(L)):         \n",
    "        L[i] = f(L[i])  \n",
    "        \n",
    "def fac(x):      \n",
    "    if x <= 0: \n",
    "        return 1     \n",
    "    else: \n",
    "        return x*fac(x-1)      \n",
    "        \n",
    "L = [4, -2, 3.35] \n",
    "print('L =', L) \n",
    "apply(lambda x: x if x >= 0 else -x, L) \n",
    "print('L =', L) \n",
    "apply(int, L) \n",
    "print('L =', L) \n",
    "apply(fac, L) \n",
    "print('L =', L) "
   ]
  },
  {
   "cell_type": "code",
   "execution_count": 22,
   "metadata": {},
   "outputs": [
    {
     "name": "stdout",
     "output_type": "stream",
     "text": [
      "1\n",
      "4\n",
      "3\n",
      "1\n",
      "[1, 4, 3, 1]\n"
     ]
    }
   ],
   "source": [
    "# No 10\n",
    "for x in map(lambda a,b: a**b, [1,2,3,4],[3,2,1,0]):                  \n",
    "    print(x)   \n",
    "    \n",
    "L = list(map(lambda a,b: a**b, [1,2,3,4],[3,2,1,0]))   \n",
    "print(L) "
   ]
  },
  {
   "cell_type": "code",
   "execution_count": 1,
   "metadata": {},
   "outputs": [
    {
     "name": "stdout",
     "output_type": "stream",
     "text": [
      "51\n"
     ]
    }
   ],
   "source": [
    "def sumInt(L):\n",
    "    if L == []:\n",
    "        return 0\n",
    "    \n",
    "    if isinstance(L[0], list):\n",
    "        return sumInt(L[0]) + sumInt (L[1:])\n",
    "    if isinstance(L[0], str):\n",
    "        return sumInt(L[1:])\n",
    "    if isinstance(L[0], int):\n",
    "        return L[0] + sumInt(L[1:])\n",
    "        \n",
    "print(sumInt([[],[[[37]]],[\"a\", [5],[\"b\",[[[9]]]]]]))\n"
   ]
  },
  {
   "cell_type": "code",
   "execution_count": 34,
   "metadata": {},
   "outputs": [
    {
     "name": "stdout",
     "output_type": "stream",
     "text": [
      "82\n",
      "depok\n"
     ]
    }
   ],
   "source": [
    "with open(\"ui.txt\", \"r+\") as file:\n",
    "    p = file.seek(0,2)\n",
    "    file.write(\"depok\")\n",
    "    print(p)\n",
    "    file.seek(p)\n",
    "    print(file.read())"
   ]
  },
  {
   "cell_type": "code",
   "execution_count": 10,
   "metadata": {},
   "outputs": [
    {
     "name": "stdout",
     "output_type": "stream",
     "text": [
      "<2, 1, 4, 2, 6>\n",
      "<0, 1, 2, 2, 8>\n",
      "-3\n",
      "8.0\n",
      "3\n",
      "4\n",
      "5\n",
      "5\n"
     ]
    },
    {
     "ename": "IndexError",
     "evalue": "list index out of range",
     "output_type": "error",
     "traceback": [
      "\u001b[1;31m---------------------------------------------------------------------------\u001b[0m",
      "\u001b[1;31mIndexError\u001b[0m                                Traceback (most recent call last)",
      "Cell \u001b[1;32mIn[10], line 61\u001b[0m\n\u001b[0;32m     58\u001b[0m     result \u001b[39m=\u001b[39m vec\u001b[39m*\u001b[39mvec\n\u001b[0;32m     60\u001b[0m \u001b[39mif\u001b[39;00m \u001b[39m__name__\u001b[39m \u001b[39m==\u001b[39m \u001b[39m\"\u001b[39m\u001b[39m__main__\u001b[39m\u001b[39m\"\u001b[39m:\n\u001b[1;32m---> 61\u001b[0m     main()\n",
      "Cell \u001b[1;32mIn[10], line 57\u001b[0m, in \u001b[0;36mmain\u001b[1;34m()\u001b[0m\n\u001b[0;32m     55\u001b[0m vec\u001b[39m.\u001b[39msort()\n\u001b[0;32m     56\u001b[0m \u001b[39mprint\u001b[39m(vec\u001b[39m.\u001b[39mjumlahVector)\n\u001b[1;32m---> 57\u001b[0m \u001b[39mprint\u001b[39m(vec[\u001b[39m5\u001b[39;49m])\n\u001b[0;32m     58\u001b[0m result \u001b[39m=\u001b[39m vec\u001b[39m*\u001b[39mvec\n",
      "\u001b[1;31mIndexError\u001b[0m: list index out of range"
     ]
    }
   ],
   "source": [
    "import math\n",
    "\n",
    "class Vector5(list):\n",
    "    jumlahVector = 0\n",
    "\n",
    "    def __init__(self, data = 5*[0]):\n",
    "        super().__init__(data)\n",
    "        self.__class__.jumlahVector += 1\n",
    "    \n",
    "    def __str__(self):\n",
    "        return f\"<{self[0]}, {self[1]}, {self[2]}, {self[3]}, {self[4]}>\"\n",
    "\n",
    "    def __add__(self, param):\n",
    "        result = 5*[0]\n",
    "        if type(param) == Vector5:\n",
    "            for i in range(5):\n",
    "                result[i] = self[i] + param[i]\n",
    "            return Vector5(result)\n",
    "        else:\n",
    "            raise(TypeError)\n",
    "        \n",
    "    def __sub__(self, param):\n",
    "        result = 5*[0]\n",
    "        if type(param) == Vector5:\n",
    "            for i in range(5):\n",
    "                result[i] = self[i] - param[i]\n",
    "            return Vector5(result)\n",
    "        else:\n",
    "            raise(TypeError)\n",
    "\n",
    "    def __mul__(self, param):\n",
    "        if type(param) == Vector5:\n",
    "            return sum([self[i] * param[i] for i in range(5)])\n",
    "        else:\n",
    "            raise(TypeError)\n",
    "\n",
    "    def norm(self):\n",
    "        return math.sqrt(self*self)\n",
    "\n",
    "def main():\n",
    "    v1 = Vector5([1,1,3,2,7])\n",
    "    v2 = Vector5([1,0,1,0,-1])\n",
    "    v3 = v1 + v2\n",
    "    v4 = v1 - v2\n",
    "    print(v3)\n",
    "    print(v4)\n",
    "    print(v1*v2)\n",
    "    print(v1.norm())\n",
    "    print(v1[2])\n",
    "    print(Vector5.jumlahVector)\n",
    "\n",
    "if __name__ == \"__main__\":\n",
    "    main()\n",
    "        "
   ]
  },
  {
   "cell_type": "code",
   "execution_count": 5,
   "metadata": {},
   "outputs": [
    {
     "name": "stdout",
     "output_type": "stream",
     "text": [
      "Function add_list1 took 0.023000 seconds\n",
      "499999500000\n"
     ]
    }
   ],
   "source": [
    "import time\n",
    "\n",
    "def timer_decorator(func):\n",
    "    def wrapper(*args, **kwargs):\n",
    "        t1 = time.time()\n",
    "        result = func(*args, **kwargs)\n",
    "        t2 = time.time()\n",
    "        print(f\"Function {func.__name__} took {t2-t1:0.6f} seconds\")\n",
    "        return result\n",
    "    return wrapper\n",
    "\n",
    "@timer_decorator\n",
    "def add_list1(ilist):\n",
    "    result = 0\n",
    "    for num in ilist:\n",
    "        result += num\n",
    "    return result\n",
    "\n",
    "ilist = list(range(1000000))\n",
    "result = add_list1(ilist)\n",
    "print(result)"
   ]
  },
  {
   "cell_type": "code",
   "execution_count": 14,
   "metadata": {},
   "outputs": [
    {
     "name": "stdout",
     "output_type": "stream",
     "text": [
      "5.5\n"
     ]
    }
   ],
   "source": [
    "def rerata(*num):\n",
    "    sum = 0\n",
    "\n",
    "    if num == 0:\n",
    "        return 0.0\n",
    "\n",
    "    for i in num:\n",
    "        sum += i\n",
    "        \n",
    "    return sum/len(num)\n",
    "    \n",
    "\n"
   ]
  },
  {
   "cell_type": "code",
   "execution_count": 17,
   "metadata": {},
   "outputs": [
    {
     "data": {
      "text/plain": [
       "[9, -20]"
      ]
     },
     "execution_count": 17,
     "metadata": {},
     "output_type": "execute_result"
    }
   ],
   "source": [
    "def collectInt(L):\n",
    "    if L == []:\n",
    "        return []\n",
    "    elif isinstance(L[0], list):\n",
    "        return collectInt(L[0]) + collectInt(L[1:])\n",
    "    elif isinstance(L[0], int):\n",
    "        return [L[0]] + collectInt([L[1:]])\n",
    "    else:\n",
    "        return collectInt(L[1:])\n",
    "\n",
    "    "
   ]
  },
  {
   "cell_type": "code",
   "execution_count": 18,
   "metadata": {},
   "outputs": [
    {
     "name": "stdout",
     "output_type": "stream",
     "text": [
      "130\n"
     ]
    }
   ],
   "source": [
    "print(sum(map(lambda x, y: x*y, [1,2,3,4],[11,12,13,14])))\n"
   ]
  }
 ],
 "metadata": {
  "kernelspec": {
   "display_name": "Python 3.11.0 64-bit",
   "language": "python",
   "name": "python3"
  },
  "language_info": {
   "codemirror_mode": {
    "name": "ipython",
    "version": 3
   },
   "file_extension": ".py",
   "mimetype": "text/x-python",
   "name": "python",
   "nbconvert_exporter": "python",
   "pygments_lexer": "ipython3",
   "version": "3.11.0 (main, Oct 24 2022, 18:26:48) [MSC v.1933 64 bit (AMD64)]"
  },
  "orig_nbformat": 4,
  "vscode": {
   "interpreter": {
    "hash": "91d787a3c4e661f32ee739672c4f9829e161a21da83312d4d63555d13045d2f3"
   }
  }
 },
 "nbformat": 4,
 "nbformat_minor": 2
}
