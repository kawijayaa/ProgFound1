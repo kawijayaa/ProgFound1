{
 "cells": [
  {
   "cell_type": "code",
   "execution_count": 5,
   "metadata": {},
   "outputs": [
    {
     "name": "stdout",
     "output_type": "stream",
     "text": [
      "a//b  : 2\n",
      "b//a  : 0\n",
      "a/b  : 2.4\n",
      "b/a  : 0.4166666666666667\n",
      "a%b  : 2\n",
      "b%a  : 5\n",
      "a,b  : 12 5\n",
      "a:=b : 5\n",
      "a,b  : 5 5\n"
     ]
    }
   ],
   "source": [
    "# NUMBER 10\n",
    "\n",
    "a = 12\n",
    "b = 5\n",
    "\n",
    "print(\"a//b  :\", a//b)\n",
    "print(\"b//a  :\",b//a)\n",
    "print(\"a/b  :\",a/b)\n",
    "print(\"b/a  :\",b/a)\n",
    "print(\"a%b  :\",a%b)\n",
    "print(\"b%a  :\",b%a)\n",
    "print(\"a,b  :\",a,b)\n",
    "\n",
    "# assignment expression (Python 3.8)\n",
    "print(\"a:=b :\",a := b)\n",
    "print(\"a,b  :\",a,b)"
   ]
  },
  {
   "cell_type": "markdown",
   "metadata": {},
   "source": [
    "NUMBER 11\n",
    "\n",
    "What are the five logical units of a computer?\n",
    "1. CPU\n",
    "2. Input Unit\n",
    "3. Outout Unit\n",
    "4. Primary Storage Unit (Memory Unit): such as RAM\n",
    "5. Secondary Storage Unit: such as hard-disk"
   ]
  },
  {
   "cell_type": "code",
   "execution_count": null,
   "metadata": {},
   "outputs": [],
   "source": [
    "# NUMBER 12\n",
    "\n",
    "# TODO: Convert the given numbers to the indicated bases (radices):"
   ]
  },
  {
   "cell_type": "code",
   "execution_count": 7,
   "metadata": {},
   "outputs": [
    {
     "name": "stdout",
     "output_type": "stream",
     "text": [
      "value of -3 > 2 > 0 is False\n",
      "value of 5 != 7 is True\n",
      "value of -3/4 is -0.75\n",
      "value of -3//4 is -1\n",
      "value of -3//4.0 is -1.0\n",
      "value of 3%4 is 3.0\n",
      "value of -3%4 is 1.0\n",
      "value of bool(25) is True\n",
      "value of round(4.5) is 4\n",
      "value of round(5.5) is 6\n"
     ]
    }
   ],
   "source": [
    "# NUMBER 13\n",
    "\n",
    "print(\"value of -3 > 2 > 0 is\", -3 > 2 > 0)\n",
    "print(\"value of 5 != 7 is\", 5 != 7)\n",
    "print(\"value of -3/4 is\", -3/4)\n",
    "print(\"value of -3//4 is\", -3//4)\n",
    "print(\"value of -3//4.0 is\", -3//4.0)\n",
    "print(\"value of 3%4 is\", 3%4.0)\n",
    "print(\"value of -3%4 is\", -3%4.0)\n",
    "print(\"value of bool(25) is\", bool(25))\n",
    "print(\"value of round(4.5) is\", round(4.5))\n",
    "print(\"value of round(5.5) is\", round(5.5))"
   ]
  },
  {
   "cell_type": "code",
   "execution_count": 8,
   "metadata": {},
   "outputs": [
    {
     "name": "stdout",
     "output_type": "stream",
     "text": [
      "256\n"
     ]
    }
   ],
   "source": [
    "# NUMBER 14\n",
    "\n",
    "num = 1\n",
    "while num <= 130:\n",
    "    num = num * 2\n",
    "print(num)\n",
    "\n",
    "\"\"\"\n",
    "It keeps multiply the value of num with 2 until it not more than 130. Starting from 1.\n",
    "\"\"\""
   ]
  },
  {
   "cell_type": "code",
   "execution_count": 10,
   "metadata": {},
   "outputs": [
    {
     "name": "stdout",
     "output_type": "stream",
     "text": [
      "100, 96, 92, 88, 84, 80, 76, 72, 68, 64, 60, 56, 52, 48, 44, 40, 36, 32, 28, 24, 20, 16, 12, 8, 4, 0"
     ]
    }
   ],
   "source": [
    "# NUMBER 15\n",
    "\n",
    "num = 100\n",
    "while num >= 0:\n",
    "    if num == 0:\n",
    "        print(num, end=\"\")\n",
    "    else:\n",
    "        print(num, end=\", \")\n",
    "    num -= 4"
   ]
  },
  {
   "cell_type": "code",
   "execution_count": 12,
   "metadata": {},
   "outputs": [
    {
     "name": "stdout",
     "output_type": "stream",
     "text": [
      "3\n"
     ]
    }
   ],
   "source": [
    "# NUMBER 16\n",
    "\n",
    "x = 123412980673\n",
    "\n",
    "x = x % 10\n",
    "print(x)"
   ]
  },
  {
   "cell_type": "code",
   "execution_count": 14,
   "metadata": {},
   "outputs": [
    {
     "name": "stdout",
     "output_type": "stream",
     "text": [
      "The smallest between 10, 9, 12, is 9\n"
     ]
    }
   ],
   "source": [
    "# NUMBER 17\n",
    "\n",
    "x = 10\n",
    "y = 9\n",
    "z = 12\n",
    "\n",
    "if x<y and x<z:\n",
    "    mini = x\n",
    "elif y<x and y<z:\n",
    "    mini = y\n",
    "elif z<x and z<y:\n",
    "    mini = z \n",
    "\n",
    "print(f\"The smallest between {x}, {y}, {z}, is {mini}\")"
   ]
  },
  {
   "cell_type": "code",
   "execution_count": 16,
   "metadata": {},
   "outputs": [
    {
     "name": "stdout",
     "output_type": "stream",
     "text": [
      "    N       N**3\n",
      "===== ==========\n",
      "    1          1\n",
      "    2          8\n",
      "    3         27\n",
      "    4         64\n",
      "    5        125\n",
      "    6        216\n",
      "    7        343\n",
      "    8        512\n",
      "    9        729\n",
      "   10       1000\n",
      "\n",
      "    N       N**3\n",
      "===== ==========\n",
      "    1          1\n",
      "    2          8\n",
      "    3         27\n",
      "    4         64\n",
      "    5        125\n",
      "    6        216\n",
      "    7        343\n",
      "    8        512\n",
      "    9        729\n",
      "   10       1000\n"
     ]
    }
   ],
   "source": [
    "# NUMBER 18\n",
    "\n",
    "# For Loop\n",
    "print(\"{0:>5s} {1:>10s}\".format(\"N\", \"N**3\"))\n",
    "print(f\"===== ==========\")\n",
    "for i in range(1,11):\n",
    "    print(f\"{i:>5d} {i**3:>10d}\")\n",
    "print()\n",
    "\n",
    "# While Loop\n",
    "print(\"{0:>5s} {1:>10s}\".format(\"N\", \"N**3\"))\n",
    "print(f\"===== ==========\")\n",
    "i = 1\n",
    "while i <= 10:\n",
    "    print(\"{0:>5d} {1:>10d}\".format(i, i**3))\n",
    "    i += 1"
   ]
  },
  {
   "cell_type": "code",
   "execution_count": null,
   "metadata": {},
   "outputs": [],
   "source": [
    "# NUMBER 19"
   ]
  },
  {
   "cell_type": "code",
   "execution_count": 18,
   "metadata": {},
   "outputs": [
    {
     "name": "stdout",
     "output_type": "stream",
     "text": [
      "9\n"
     ]
    }
   ],
   "source": [
    "# NUMBER 20\n",
    "\n",
    "x = 3\n",
    "n = 1\n",
    "res = 0\n",
    "while n <= x:\n",
    "\tres += x\n",
    "\tn += 1\n",
    "\t\n",
    "print(res)"
   ]
  },
  {
   "cell_type": "code",
   "execution_count": 21,
   "metadata": {},
   "outputs": [
    {
     "name": "stdout",
     "output_type": "stream",
     "text": [
      "9\n"
     ]
    }
   ],
   "source": [
    "# NUMBER 21\n",
    "\n",
    "x = -3\n",
    "if x < 0:\n",
    "    x = -x\n",
    "res = 0\n",
    "for i in range(x):\n",
    "\tres += x\n",
    "        \n",
    "print(res)"
   ]
  },
  {
   "cell_type": "code",
   "execution_count": 26,
   "metadata": {},
   "outputs": [
    {
     "name": "stdout",
     "output_type": "stream",
     "text": [
      "54\n"
     ]
    }
   ],
   "source": [
    "# NUMBER 22\n",
    "\n",
    "largeNum = float('-inf')\n",
    "for i in range (20):\n",
    "\tinputNum = int(input(\"Enter integer: \"))\n",
    "\tif inputNum%2 == 0 and inputNum>largeNum:\n",
    "\t    largeNum = inputNum\n",
    "if largeNum == None:\n",
    "    print(\"No even number was entered\")\n",
    "else:\n",
    "    print(largeNum)\n"
   ]
  },
  {
   "cell_type": "code",
   "execution_count": 38,
   "metadata": {},
   "outputs": [
    {
     "name": "stdout",
     "output_type": "stream",
     "text": [
      "2 + 2 < 4 is False\n",
      "3^2 +  4^2 = 25 is True\n",
      "1387%19 = 0 is True\n",
      "\"great\" < \"good\" is False\n"
     ]
    }
   ],
   "source": [
    "# NUMBER 23\n",
    "\n",
    "print(\"2 + 2 < 4 is\", 2 + 2 < 4)\n",
    "x = 3**2 + 4**2\n",
    "print(\"3^2 +  4^2 = 25 is\", x == 25)\n",
    "x = 1387%19\n",
    "print(\"1387%19 = 0 is\", x == 0)\n",
    "print(\"\"\"\"great\" < \"good\" is\"\"\", \"great\" < \"good\")"
   ]
  },
  {
   "cell_type": "markdown",
   "metadata": {},
   "source": [
    "NUMBER 24\n",
    "\n",
    "(a) 7 + True --> int\n",
    "\n",
    "(b) 2 * 3**2.0 --> float\n",
    "\n",
    "(c) 4 // 2 + 4 % 2 --> int\n",
    "\n",
    "(d) 2 + 3 == 4 or 5 >= 5 --> bool\n",
    "\n",
    "(e) 5*\"ho\" --> string"
   ]
  },
  {
   "cell_type": "code",
   "execution_count": 41,
   "metadata": {},
   "outputs": [
    {
     "name": "stdout",
     "output_type": "stream",
     "text": [
      "One number is 4; the other is 3.5.\n",
      "The date is June 5th, 2022.\n",
      "The interest rate \n",
      "is 2.50% for you.\n",
      "   Length: 23.9   cm.\n",
      ".nohtyP nrael I\n",
      "Python\n",
      "15\n"
     ]
    }
   ],
   "source": [
    "# NUMEBR 25\n",
    "\n",
    "print(\"One number is {}; the other is {}.\".format(4,3.5))\n",
    "\n",
    "month = \"June\"\n",
    "day = 5\n",
    "year = 2021\n",
    "print(f\"The date is {month} {day}th, {year+1}.\")\n",
    "\n",
    "print(\"The interest rate \\nis {:.2%} for you.\".format(1/40))\n",
    "\n",
    "print(\"{1:>9s}: {0:<6.1f} cm.\".format(23.875,\"Length\"))\n",
    "\n",
    "sentence = \"I learn Python.\"\n",
    "print(sentence[::-1])\n",
    "print(sentence[8:-1])\n",
    "print(len(sentence))"
   ]
  },
  {
   "cell_type": "code",
   "execution_count": 47,
   "metadata": {},
   "outputs": [
    {
     "name": "stdout",
     "output_type": "stream",
     "text": [
      "eaeO\n",
      "\n",
      "oui\n"
     ]
    }
   ],
   "source": [
    "# NUMBER 26\n",
    "\n",
    "def vowels (vow):\n",
    "    res = \"\"\n",
    "    for i in vow:\n",
    "        if i in \"aiueoAIUEO\":\n",
    "            res = res + i\n",
    "    return res\n",
    "\n",
    "print(vowels(\"test case BRO!\"))\n",
    "print(vowels(\"brrsh\"))\n",
    "print(vowels(\"oui\"))"
   ]
  },
  {
   "cell_type": "markdown",
   "metadata": {},
   "source": [
    "NUMBER 27\n",
    "\n",
    "(a) this function return the calculation of x cubic\n",
    "\n",
    "(b) this program accepts integer as argument, assume that y is variable with type integer. Then, the program assign variable asnwer to multiplying the variable with itself three times. This also means, that the program calculating as y3.\n",
    "\n",
    "(c)answer = 4, is global variable, whereas answer in function is local variable, it’s only works inside the function. "
   ]
  },
  {
   "cell_type": "code",
   "execution_count": 48,
   "metadata": {},
   "outputs": [],
   "source": [
    "# NUMBER 28\n",
    "\n",
    "def div3 (n):\n",
    "\treturn n%3==0"
   ]
  },
  {
   "cell_type": "code",
   "execution_count": 49,
   "metadata": {},
   "outputs": [],
   "source": [
    "# NUMBER 29\n",
    "\n",
    "def lsdd (n):\n",
    "\tn = n%10\n",
    "\treturn n"
   ]
  },
  {
   "cell_type": "code",
   "execution_count": 55,
   "metadata": {},
   "outputs": [],
   "source": [
    "# NUMBER 30\n",
    "\n",
    "def sumSquare (n):\n",
    "\tres = 0\n",
    "\ti = 0\n",
    "\twhile i <= n:\n",
    "\t\tres += i**2\n",
    "\t\ti += 1\n",
    "\treturn res\n"
   ]
  },
  {
   "cell_type": "code",
   "execution_count": 65,
   "metadata": {},
   "outputs": [
    {
     "name": "stdout",
     "output_type": "stream",
     "text": [
      "125\n"
     ]
    }
   ],
   "source": [
    "# NUMBER 31\n",
    "\n",
    "outFile = open(\"ws01_2022.txt\",'w')\n",
    "\n",
    "print(23, file=outFile)\n",
    "print(117, file=outFile)\n",
    "print(-15, file=outFile)\n",
    "\n",
    "outFile.close()\n",
    "\n",
    "inFile = open(\"ws01_2022.txt\",'r')\n",
    "\n",
    "var = 0\n",
    "for line in inFile:\n",
    "    var = var + int(line.strip())\n",
    "inFile.close()\n",
    "\n",
    "print(var)"
   ]
  },
  {
   "cell_type": "code",
   "execution_count": 66,
   "metadata": {},
   "outputs": [
    {
     "name": "stdout",
     "output_type": "stream",
     "text": [
      "The month abbreviation is Mar.\n"
     ]
    }
   ],
   "source": [
    "# NUMBER 32\n",
    "\n",
    "def main():\n",
    "    months = [\"Jan\", \"Feb\", \"Mar\", \"Apr\", \"May\", \"Jun\", \"Jul\", \"Aug\", \"Sep\", \"Oct\", \"Nov\", \"Dec\"]\n",
    "    n = int(input(\"Enter a month number(1-12): \"))\n",
    "    print(f\"The month abbreviation is {months[n-1]}.\")\n",
    "if __name__ == \"__main__\":\n",
    "    main()"
   ]
  },
  {
   "cell_type": "code",
   "execution_count": 67,
   "metadata": {},
   "outputs": [
    {
     "name": "stdout",
     "output_type": "stream",
     "text": [
      "['ua', 'ad', 'ai', 'tpe']\n",
      "d\n",
      "list2: [1, 2, 10, 0, [41, 5]]\n",
      "list3: [30, 20, 3, 0, [41, 5]]\n"
     ]
    }
   ],
   "source": [
    "# NUMBER 33\n",
    "\n",
    "lst = ['satu', '\\x64\\x75\\x61', 'tiga', 'empat']\n",
    "lst2 = [ kata[::-2] for kata in lst ]\n",
    "print( lst2 )\n",
    "print( lst[1][:1] )\n",
    "\n",
    "list1 = [30,20,10,0,[41,42]]\n",
    "list2 = list1\n",
    "list3 = list2[:]\n",
    "list1[0] = 1\n",
    "list2[1] = 2\n",
    "list3[2] = 3\n",
    "list3[-1][1] = 5\n",
    "print(\"list2:\", list2)\n",
    "print(\"list3:\", list3) "
   ]
  },
  {
   "cell_type": "code",
   "execution_count": 70,
   "metadata": {},
   "outputs": [],
   "source": [
    "# NUMBER 34\n",
    "\n",
    "def syr(x):\n",
    "    lst = [x]\n",
    "    while x>1:\n",
    "        if x%2 == 0:\n",
    "            x = x//2\n",
    "            lst.append(x)\n",
    "        elif x%2 != 0:\n",
    "            x = 3*x+1\n",
    "            lst.append(x)\n",
    "            return lst\n"
   ]
  },
  {
   "cell_type": "code",
   "execution_count": 72,
   "metadata": {},
   "outputs": [],
   "source": [
    "# NUMBER 35\n",
    "\n",
    "even_cubes = [x**3 for x in range (50) if x%2==0]"
   ]
  },
  {
   "cell_type": "code",
   "execution_count": 71,
   "metadata": {},
   "outputs": [],
   "source": [
    "# NUMBER 36\n",
    "\n",
    "def sumDigit (n):\n",
    "\ttemp =str(n)\n",
    "\tres = 0\n",
    "\tfor i in temp:\n",
    "\t\tres += int(i)\n",
    "\treturn res"
   ]
  },
  {
   "cell_type": "code",
   "execution_count": 75,
   "metadata": {},
   "outputs": [],
   "source": [
    "# NUMBER 37\n",
    "\n",
    "def wordLengths (lst):\t\n",
    "\tnew_lst = []\n",
    "\tvisited = []\n",
    "\tfor word in lst:\n",
    "\t\tif word in visited:\n",
    "\t\t\tcontinue\n",
    "\t\telse:\n",
    "\t\t\tlength = len(word)\n",
    "\t\t\tvisited.append(word)\n",
    "\t\t\tnew_lst.append([word,length])\n",
    "\treturn new_lst"
   ]
  },
  {
   "cell_type": "code",
   "execution_count": 76,
   "metadata": {},
   "outputs": [
    {
     "name": "stdout",
     "output_type": "stream",
     "text": [
      "[5, 4, 15, 8, 25, 12, 35, 16, 45, 20]\n"
     ]
    }
   ],
   "source": [
    "# NUMBER 38\n",
    "\n",
    "res = [2*i if i%2==0 else 5*i for i in range(1,11)]\n",
    "print(res)"
   ]
  },
  {
   "cell_type": "code",
   "execution_count": 77,
   "metadata": {},
   "outputs": [
    {
     "name": "stdout",
     "output_type": "stream",
     "text": [
      "[15, -9, -8, 7, 5, 4, 3, 2]\n"
     ]
    }
   ],
   "source": [
    "# NUMBER 39\n",
    "\n",
    "L=[5,-8,3,7,15,-9,4,2]\n",
    "L = sorted(L, key=abs, reverse=True)\n",
    "\n",
    "print(L)"
   ]
  }
 ],
 "metadata": {
  "kernelspec": {
   "display_name": "Python 3.10.8 64-bit",
   "language": "python",
   "name": "python3"
  },
  "language_info": {
   "codemirror_mode": {
    "name": "ipython",
    "version": 3
   },
   "file_extension": ".py",
   "mimetype": "text/x-python",
   "name": "python",
   "nbconvert_exporter": "python",
   "pygments_lexer": "ipython3",
   "version": "3.10.8"
  },
  "orig_nbformat": 4,
  "vscode": {
   "interpreter": {
    "hash": "369f2c481f4da34e4445cda3fffd2e751bd1c4d706f27375911949ba6bb62e1c"
   }
  }
 },
 "nbformat": 4,
 "nbformat_minor": 2
}
